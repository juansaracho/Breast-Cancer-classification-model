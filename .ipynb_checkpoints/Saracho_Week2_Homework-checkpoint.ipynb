{
 "cells": [
  {
   "cell_type": "markdown",
   "id": "31ed0633",
   "metadata": {},
   "source": [
    "# Homework 2\n",
    "### By: Juan Saracho"
   ]
  },
  {
   "cell_type": "code",
   "execution_count": 13,
   "id": "73874b51",
   "metadata": {},
   "outputs": [],
   "source": [
    "import os\n",
    "import numpy as np\n",
    "import pandas as pd\n",
    "import seaborn as sns\n",
    "import matplotlib.pyplot as plt"
   ]
  },
  {
   "cell_type": "markdown",
   "id": "ee517496",
   "metadata": {},
   "source": [
    "### Load Data"
   ]
  },
  {
   "cell_type": "code",
   "execution_count": 14,
   "id": "f5a77cd0",
   "metadata": {},
   "outputs": [],
   "source": [
    "# df = pd.read_csv(r\"C:\\Users\\sarac\\OneDrive\\Documents\\ANA680\\wk1\\breast-cancer-wisconsin-data.csv\", na_values=['NULL', '?', 'NONE'])\n",
    "url = 'https://raw.githubusercontent.com/juansaracho/ana680-hw2/main/breast-cancer-wisconsin-data.csv'\n",
    "df = pd.read_csv(url, na_values=['NULL', '?', 'NONE'])\n",
    "df = pd.DataFrame(df)"
   ]
  },
  {
   "cell_type": "markdown",
   "id": "36e52444",
   "metadata": {},
   "source": [
    "### Data Exploration"
   ]
  },
  {
   "cell_type": "code",
   "execution_count": 15,
   "id": "a7257e43",
   "metadata": {
    "scrolled": true
   },
   "outputs": [
    {
     "name": "stdout",
     "output_type": "stream",
     "text": [
      "Dataframe shape: (699, 11) \n"
     ]
    },
    {
     "data": {
      "text/html": [
       "<div>\n",
       "<style scoped>\n",
       "    .dataframe tbody tr th:only-of-type {\n",
       "        vertical-align: middle;\n",
       "    }\n",
       "\n",
       "    .dataframe tbody tr th {\n",
       "        vertical-align: top;\n",
       "    }\n",
       "\n",
       "    .dataframe thead th {\n",
       "        text-align: right;\n",
       "    }\n",
       "</style>\n",
       "<table border=\"1\" class=\"dataframe\">\n",
       "  <thead>\n",
       "    <tr style=\"text-align: right;\">\n",
       "      <th></th>\n",
       "      <th>ID</th>\n",
       "      <th>clump_thickness</th>\n",
       "      <th>uniformity_cell_size</th>\n",
       "      <th>uniformity_cell_shape</th>\n",
       "      <th>marginal_adhesion</th>\n",
       "      <th>single_epi_cell_size</th>\n",
       "      <th>bare_nuclei</th>\n",
       "      <th>bland_chromatin</th>\n",
       "      <th>normal_nucleoli</th>\n",
       "      <th>mitoses</th>\n",
       "      <th>class</th>\n",
       "    </tr>\n",
       "  </thead>\n",
       "  <tbody>\n",
       "    <tr>\n",
       "      <th>0</th>\n",
       "      <td>1000025</td>\n",
       "      <td>5</td>\n",
       "      <td>1</td>\n",
       "      <td>1</td>\n",
       "      <td>1</td>\n",
       "      <td>2</td>\n",
       "      <td>1.0</td>\n",
       "      <td>3</td>\n",
       "      <td>1</td>\n",
       "      <td>1</td>\n",
       "      <td>2</td>\n",
       "    </tr>\n",
       "    <tr>\n",
       "      <th>1</th>\n",
       "      <td>1002945</td>\n",
       "      <td>5</td>\n",
       "      <td>4</td>\n",
       "      <td>4</td>\n",
       "      <td>5</td>\n",
       "      <td>7</td>\n",
       "      <td>10.0</td>\n",
       "      <td>3</td>\n",
       "      <td>2</td>\n",
       "      <td>1</td>\n",
       "      <td>2</td>\n",
       "    </tr>\n",
       "    <tr>\n",
       "      <th>2</th>\n",
       "      <td>1015425</td>\n",
       "      <td>3</td>\n",
       "      <td>1</td>\n",
       "      <td>1</td>\n",
       "      <td>1</td>\n",
       "      <td>2</td>\n",
       "      <td>2.0</td>\n",
       "      <td>3</td>\n",
       "      <td>1</td>\n",
       "      <td>1</td>\n",
       "      <td>2</td>\n",
       "    </tr>\n",
       "    <tr>\n",
       "      <th>3</th>\n",
       "      <td>1016277</td>\n",
       "      <td>6</td>\n",
       "      <td>8</td>\n",
       "      <td>8</td>\n",
       "      <td>1</td>\n",
       "      <td>3</td>\n",
       "      <td>4.0</td>\n",
       "      <td>3</td>\n",
       "      <td>7</td>\n",
       "      <td>1</td>\n",
       "      <td>2</td>\n",
       "    </tr>\n",
       "    <tr>\n",
       "      <th>4</th>\n",
       "      <td>1017023</td>\n",
       "      <td>4</td>\n",
       "      <td>1</td>\n",
       "      <td>1</td>\n",
       "      <td>3</td>\n",
       "      <td>2</td>\n",
       "      <td>1.0</td>\n",
       "      <td>3</td>\n",
       "      <td>1</td>\n",
       "      <td>1</td>\n",
       "      <td>2</td>\n",
       "    </tr>\n",
       "  </tbody>\n",
       "</table>\n",
       "</div>"
      ],
      "text/plain": [
       "        ID  clump_thickness  uniformity_cell_size  uniformity_cell_shape  \\\n",
       "0  1000025                5                     1                      1   \n",
       "1  1002945                5                     4                      4   \n",
       "2  1015425                3                     1                      1   \n",
       "3  1016277                6                     8                      8   \n",
       "4  1017023                4                     1                      1   \n",
       "\n",
       "   marginal_adhesion  single_epi_cell_size  bare_nuclei  bland_chromatin  \\\n",
       "0                  1                     2          1.0                3   \n",
       "1                  5                     7         10.0                3   \n",
       "2                  1                     2          2.0                3   \n",
       "3                  1                     3          4.0                3   \n",
       "4                  3                     2          1.0                3   \n",
       "\n",
       "   normal_nucleoli  mitoses  class  \n",
       "0                1        1      2  \n",
       "1                2        1      2  \n",
       "2                1        1      2  \n",
       "3                7        1      2  \n",
       "4                1        1      2  "
      ]
     },
     "execution_count": 15,
     "metadata": {},
     "output_type": "execute_result"
    }
   ],
   "source": [
    "print(\"Dataframe shape: {} \".format(df.shape))\n",
    "\n",
    "df.head(5)"
   ]
  },
  {
   "cell_type": "code",
   "execution_count": 16,
   "id": "50228242",
   "metadata": {
    "scrolled": true
   },
   "outputs": [
    {
     "data": {
      "text/plain": [
       "['ID',\n",
       " 'clump_thickness',\n",
       " 'uniformity_cell_size',\n",
       " 'uniformity_cell_shape',\n",
       " 'marginal_adhesion',\n",
       " 'single_epi_cell_size',\n",
       " 'bare_nuclei',\n",
       " 'bland_chromatin',\n",
       " 'normal_nucleoli',\n",
       " 'mitoses',\n",
       " 'class']"
      ]
     },
     "execution_count": 16,
     "metadata": {},
     "output_type": "execute_result"
    }
   ],
   "source": [
    "df.columns.to_list()"
   ]
  },
  {
   "cell_type": "code",
   "execution_count": 17,
   "id": "2dd799ac",
   "metadata": {
    "scrolled": false
   },
   "outputs": [
    {
     "name": "stdout",
     "output_type": "stream",
     "text": [
      "<class 'pandas.core.frame.DataFrame'>\n",
      "RangeIndex: 699 entries, 0 to 698\n",
      "Data columns (total 11 columns):\n",
      " #   Column                 Non-Null Count  Dtype  \n",
      "---  ------                 --------------  -----  \n",
      " 0   ID                     699 non-null    int64  \n",
      " 1   clump_thickness        699 non-null    int64  \n",
      " 2   uniformity_cell_size   699 non-null    int64  \n",
      " 3   uniformity_cell_shape  699 non-null    int64  \n",
      " 4   marginal_adhesion      699 non-null    int64  \n",
      " 5   single_epi_cell_size   699 non-null    int64  \n",
      " 6   bare_nuclei            683 non-null    float64\n",
      " 7   bland_chromatin        699 non-null    int64  \n",
      " 8   normal_nucleoli        699 non-null    int64  \n",
      " 9   mitoses                699 non-null    int64  \n",
      " 10  class                  699 non-null    int64  \n",
      "dtypes: float64(1), int64(10)\n",
      "memory usage: 60.2 KB\n"
     ]
    }
   ],
   "source": [
    "df.info()"
   ]
  },
  {
   "cell_type": "code",
   "execution_count": 18,
   "id": "f4813e16",
   "metadata": {
    "scrolled": true
   },
   "outputs": [
    {
     "data": {
      "text/html": [
       "<div>\n",
       "<style scoped>\n",
       "    .dataframe tbody tr th:only-of-type {\n",
       "        vertical-align: middle;\n",
       "    }\n",
       "\n",
       "    .dataframe tbody tr th {\n",
       "        vertical-align: top;\n",
       "    }\n",
       "\n",
       "    .dataframe thead th {\n",
       "        text-align: right;\n",
       "    }\n",
       "</style>\n",
       "<table border=\"1\" class=\"dataframe\">\n",
       "  <thead>\n",
       "    <tr style=\"text-align: right;\">\n",
       "      <th></th>\n",
       "      <th>count</th>\n",
       "      <th>mean</th>\n",
       "      <th>std</th>\n",
       "      <th>min</th>\n",
       "      <th>25%</th>\n",
       "      <th>50%</th>\n",
       "      <th>75%</th>\n",
       "      <th>max</th>\n",
       "    </tr>\n",
       "  </thead>\n",
       "  <tbody>\n",
       "    <tr>\n",
       "      <th>ID</th>\n",
       "      <td>699.0</td>\n",
       "      <td>1071704.10</td>\n",
       "      <td>617095.73</td>\n",
       "      <td>61634.0</td>\n",
       "      <td>870688.5</td>\n",
       "      <td>1171710.0</td>\n",
       "      <td>1238298.0</td>\n",
       "      <td>13454352.0</td>\n",
       "    </tr>\n",
       "    <tr>\n",
       "      <th>clump_thickness</th>\n",
       "      <td>699.0</td>\n",
       "      <td>4.42</td>\n",
       "      <td>2.82</td>\n",
       "      <td>1.0</td>\n",
       "      <td>2.0</td>\n",
       "      <td>4.0</td>\n",
       "      <td>6.0</td>\n",
       "      <td>10.0</td>\n",
       "    </tr>\n",
       "    <tr>\n",
       "      <th>uniformity_cell_size</th>\n",
       "      <td>699.0</td>\n",
       "      <td>3.13</td>\n",
       "      <td>3.05</td>\n",
       "      <td>1.0</td>\n",
       "      <td>1.0</td>\n",
       "      <td>1.0</td>\n",
       "      <td>5.0</td>\n",
       "      <td>10.0</td>\n",
       "    </tr>\n",
       "    <tr>\n",
       "      <th>uniformity_cell_shape</th>\n",
       "      <td>699.0</td>\n",
       "      <td>3.21</td>\n",
       "      <td>2.97</td>\n",
       "      <td>1.0</td>\n",
       "      <td>1.0</td>\n",
       "      <td>1.0</td>\n",
       "      <td>5.0</td>\n",
       "      <td>10.0</td>\n",
       "    </tr>\n",
       "    <tr>\n",
       "      <th>marginal_adhesion</th>\n",
       "      <td>699.0</td>\n",
       "      <td>2.81</td>\n",
       "      <td>2.86</td>\n",
       "      <td>1.0</td>\n",
       "      <td>1.0</td>\n",
       "      <td>1.0</td>\n",
       "      <td>4.0</td>\n",
       "      <td>10.0</td>\n",
       "    </tr>\n",
       "    <tr>\n",
       "      <th>single_epi_cell_size</th>\n",
       "      <td>699.0</td>\n",
       "      <td>3.22</td>\n",
       "      <td>2.21</td>\n",
       "      <td>1.0</td>\n",
       "      <td>2.0</td>\n",
       "      <td>2.0</td>\n",
       "      <td>4.0</td>\n",
       "      <td>10.0</td>\n",
       "    </tr>\n",
       "    <tr>\n",
       "      <th>bare_nuclei</th>\n",
       "      <td>683.0</td>\n",
       "      <td>3.54</td>\n",
       "      <td>3.64</td>\n",
       "      <td>1.0</td>\n",
       "      <td>1.0</td>\n",
       "      <td>1.0</td>\n",
       "      <td>6.0</td>\n",
       "      <td>10.0</td>\n",
       "    </tr>\n",
       "    <tr>\n",
       "      <th>bland_chromatin</th>\n",
       "      <td>699.0</td>\n",
       "      <td>3.44</td>\n",
       "      <td>2.44</td>\n",
       "      <td>1.0</td>\n",
       "      <td>2.0</td>\n",
       "      <td>3.0</td>\n",
       "      <td>5.0</td>\n",
       "      <td>10.0</td>\n",
       "    </tr>\n",
       "    <tr>\n",
       "      <th>normal_nucleoli</th>\n",
       "      <td>699.0</td>\n",
       "      <td>2.87</td>\n",
       "      <td>3.05</td>\n",
       "      <td>1.0</td>\n",
       "      <td>1.0</td>\n",
       "      <td>1.0</td>\n",
       "      <td>4.0</td>\n",
       "      <td>10.0</td>\n",
       "    </tr>\n",
       "    <tr>\n",
       "      <th>mitoses</th>\n",
       "      <td>699.0</td>\n",
       "      <td>1.59</td>\n",
       "      <td>1.72</td>\n",
       "      <td>1.0</td>\n",
       "      <td>1.0</td>\n",
       "      <td>1.0</td>\n",
       "      <td>1.0</td>\n",
       "      <td>10.0</td>\n",
       "    </tr>\n",
       "    <tr>\n",
       "      <th>class</th>\n",
       "      <td>699.0</td>\n",
       "      <td>2.69</td>\n",
       "      <td>0.95</td>\n",
       "      <td>2.0</td>\n",
       "      <td>2.0</td>\n",
       "      <td>2.0</td>\n",
       "      <td>4.0</td>\n",
       "      <td>4.0</td>\n",
       "    </tr>\n",
       "  </tbody>\n",
       "</table>\n",
       "</div>"
      ],
      "text/plain": [
       "                       count        mean        std      min       25%  \\\n",
       "ID                     699.0  1071704.10  617095.73  61634.0  870688.5   \n",
       "clump_thickness        699.0        4.42       2.82      1.0       2.0   \n",
       "uniformity_cell_size   699.0        3.13       3.05      1.0       1.0   \n",
       "uniformity_cell_shape  699.0        3.21       2.97      1.0       1.0   \n",
       "marginal_adhesion      699.0        2.81       2.86      1.0       1.0   \n",
       "single_epi_cell_size   699.0        3.22       2.21      1.0       2.0   \n",
       "bare_nuclei            683.0        3.54       3.64      1.0       1.0   \n",
       "bland_chromatin        699.0        3.44       2.44      1.0       2.0   \n",
       "normal_nucleoli        699.0        2.87       3.05      1.0       1.0   \n",
       "mitoses                699.0        1.59       1.72      1.0       1.0   \n",
       "class                  699.0        2.69       0.95      2.0       2.0   \n",
       "\n",
       "                             50%        75%         max  \n",
       "ID                     1171710.0  1238298.0  13454352.0  \n",
       "clump_thickness              4.0        6.0        10.0  \n",
       "uniformity_cell_size         1.0        5.0        10.0  \n",
       "uniformity_cell_shape        1.0        5.0        10.0  \n",
       "marginal_adhesion            1.0        4.0        10.0  \n",
       "single_epi_cell_size         2.0        4.0        10.0  \n",
       "bare_nuclei                  1.0        6.0        10.0  \n",
       "bland_chromatin              3.0        5.0        10.0  \n",
       "normal_nucleoli              1.0        4.0        10.0  \n",
       "mitoses                      1.0        1.0        10.0  \n",
       "class                        2.0        4.0         4.0  "
      ]
     },
     "execution_count": 18,
     "metadata": {},
     "output_type": "execute_result"
    }
   ],
   "source": [
    "df.select_dtypes(exclude=['object']).describe().round(decimals=2).transpose()"
   ]
  },
  {
   "cell_type": "code",
   "execution_count": 19,
   "id": "caf2385d",
   "metadata": {
    "scrolled": true
   },
   "outputs": [
    {
     "data": {
      "text/plain": [
       "array([[<AxesSubplot:title={'center':'ID'}>,\n",
       "        <AxesSubplot:title={'center':'clump_thickness'}>,\n",
       "        <AxesSubplot:title={'center':'uniformity_cell_size'}>],\n",
       "       [<AxesSubplot:title={'center':'uniformity_cell_shape'}>,\n",
       "        <AxesSubplot:title={'center':'marginal_adhesion'}>,\n",
       "        <AxesSubplot:title={'center':'single_epi_cell_size'}>],\n",
       "       [<AxesSubplot:title={'center':'bare_nuclei'}>,\n",
       "        <AxesSubplot:title={'center':'bland_chromatin'}>,\n",
       "        <AxesSubplot:title={'center':'normal_nucleoli'}>],\n",
       "       [<AxesSubplot:title={'center':'mitoses'}>,\n",
       "        <AxesSubplot:title={'center':'class'}>, <AxesSubplot:>]],\n",
       "      dtype=object)"
      ]
     },
     "execution_count": 19,
     "metadata": {},
     "output_type": "execute_result"
    },
    {
     "data": {
      "image/png": "[encoded data removed]",
      "text/plain": [
       "<Figure size 1080x1080 with 12 Axes>"
      ]
     },
     "metadata": {
      "needs_background": "light"
     },
     "output_type": "display_data"
    }
   ],
   "source": [
    "df.hist(bins=50, figsize=(15,15))"
   ]
  },
  {
   "cell_type": "markdown",
   "id": "19a4c364",
   "metadata": {},
   "source": [
    "<b> Looking for NULL value </b>"
   ]
  },
  {
   "cell_type": "code",
   "execution_count": 20,
   "id": "188b10a1",
   "metadata": {
    "scrolled": true
   },
   "outputs": [
    {
     "data": {
      "text/plain": [
       "ID                        0\n",
       "clump_thickness           0\n",
       "uniformity_cell_size      0\n",
       "uniformity_cell_shape     0\n",
       "marginal_adhesion         0\n",
       "single_epi_cell_size      0\n",
       "bare_nuclei              16\n",
       "bland_chromatin           0\n",
       "normal_nucleoli           0\n",
       "mitoses                   0\n",
       "class                     0\n",
       "dtype: int64"
      ]
     },
     "execution_count": 20,
     "metadata": {},
     "output_type": "execute_result"
    }
   ],
   "source": [
    "df.isnull().sum()"
   ]
  },
  {
   "cell_type": "code",
   "execution_count": 21,
   "id": "48bd3106",
   "metadata": {
    "scrolled": true
   },
   "outputs": [
    {
     "data": {
      "text/plain": [
       "(array([ 23,  40, 139, 145, 158, 164, 235, 249, 275, 292, 294, 297, 315,\n",
       "        321, 411, 617], dtype=int64),)"
      ]
     },
     "execution_count": 21,
     "metadata": {},
     "output_type": "execute_result"
    }
   ],
   "source": [
    "np.where(df['bare_nuclei'].isnull())"
   ]
  },
  {
   "cell_type": "code",
   "execution_count": 22,
   "id": "7ec4a609",
   "metadata": {
    "scrolled": true
   },
   "outputs": [
    {
     "data": {
      "text/html": [
       "<div>\n",
       "<style scoped>\n",
       "    .dataframe tbody tr th:only-of-type {\n",
       "        vertical-align: middle;\n",
       "    }\n",
       "\n",
       "    .dataframe tbody tr th {\n",
       "        vertical-align: top;\n",
       "    }\n",
       "\n",
       "    .dataframe thead th {\n",
       "        text-align: right;\n",
       "    }\n",
       "</style>\n",
       "<table border=\"1\" class=\"dataframe\">\n",
       "  <thead>\n",
       "    <tr style=\"text-align: right;\">\n",
       "      <th></th>\n",
       "      <th>ID</th>\n",
       "      <th>clump_thickness</th>\n",
       "      <th>uniformity_cell_size</th>\n",
       "      <th>uniformity_cell_shape</th>\n",
       "      <th>marginal_adhesion</th>\n",
       "      <th>single_epi_cell_size</th>\n",
       "      <th>bare_nuclei</th>\n",
       "      <th>bland_chromatin</th>\n",
       "      <th>normal_nucleoli</th>\n",
       "      <th>mitoses</th>\n",
       "      <th>class</th>\n",
       "    </tr>\n",
       "  </thead>\n",
       "  <tbody>\n",
       "    <tr>\n",
       "      <th>23</th>\n",
       "      <td>1057013</td>\n",
       "      <td>8</td>\n",
       "      <td>4</td>\n",
       "      <td>5</td>\n",
       "      <td>1</td>\n",
       "      <td>2</td>\n",
       "      <td>NaN</td>\n",
       "      <td>7</td>\n",
       "      <td>3</td>\n",
       "      <td>1</td>\n",
       "      <td>4</td>\n",
       "    </tr>\n",
       "    <tr>\n",
       "      <th>40</th>\n",
       "      <td>1096800</td>\n",
       "      <td>6</td>\n",
       "      <td>6</td>\n",
       "      <td>6</td>\n",
       "      <td>9</td>\n",
       "      <td>6</td>\n",
       "      <td>NaN</td>\n",
       "      <td>7</td>\n",
       "      <td>8</td>\n",
       "      <td>1</td>\n",
       "      <td>2</td>\n",
       "    </tr>\n",
       "    <tr>\n",
       "      <th>139</th>\n",
       "      <td>1183246</td>\n",
       "      <td>1</td>\n",
       "      <td>1</td>\n",
       "      <td>1</td>\n",
       "      <td>1</td>\n",
       "      <td>1</td>\n",
       "      <td>NaN</td>\n",
       "      <td>2</td>\n",
       "      <td>1</td>\n",
       "      <td>1</td>\n",
       "      <td>2</td>\n",
       "    </tr>\n",
       "    <tr>\n",
       "      <th>145</th>\n",
       "      <td>1184840</td>\n",
       "      <td>1</td>\n",
       "      <td>1</td>\n",
       "      <td>3</td>\n",
       "      <td>1</td>\n",
       "      <td>2</td>\n",
       "      <td>NaN</td>\n",
       "      <td>2</td>\n",
       "      <td>1</td>\n",
       "      <td>1</td>\n",
       "      <td>2</td>\n",
       "    </tr>\n",
       "    <tr>\n",
       "      <th>158</th>\n",
       "      <td>1193683</td>\n",
       "      <td>1</td>\n",
       "      <td>1</td>\n",
       "      <td>2</td>\n",
       "      <td>1</td>\n",
       "      <td>3</td>\n",
       "      <td>NaN</td>\n",
       "      <td>1</td>\n",
       "      <td>1</td>\n",
       "      <td>1</td>\n",
       "      <td>2</td>\n",
       "    </tr>\n",
       "    <tr>\n",
       "      <th>164</th>\n",
       "      <td>1197510</td>\n",
       "      <td>5</td>\n",
       "      <td>1</td>\n",
       "      <td>1</td>\n",
       "      <td>1</td>\n",
       "      <td>2</td>\n",
       "      <td>NaN</td>\n",
       "      <td>3</td>\n",
       "      <td>1</td>\n",
       "      <td>1</td>\n",
       "      <td>2</td>\n",
       "    </tr>\n",
       "    <tr>\n",
       "      <th>235</th>\n",
       "      <td>1241232</td>\n",
       "      <td>3</td>\n",
       "      <td>1</td>\n",
       "      <td>4</td>\n",
       "      <td>1</td>\n",
       "      <td>2</td>\n",
       "      <td>NaN</td>\n",
       "      <td>3</td>\n",
       "      <td>1</td>\n",
       "      <td>1</td>\n",
       "      <td>2</td>\n",
       "    </tr>\n",
       "    <tr>\n",
       "      <th>249</th>\n",
       "      <td>169356</td>\n",
       "      <td>3</td>\n",
       "      <td>1</td>\n",
       "      <td>1</td>\n",
       "      <td>1</td>\n",
       "      <td>2</td>\n",
       "      <td>NaN</td>\n",
       "      <td>3</td>\n",
       "      <td>1</td>\n",
       "      <td>1</td>\n",
       "      <td>2</td>\n",
       "    </tr>\n",
       "    <tr>\n",
       "      <th>275</th>\n",
       "      <td>432809</td>\n",
       "      <td>3</td>\n",
       "      <td>1</td>\n",
       "      <td>3</td>\n",
       "      <td>1</td>\n",
       "      <td>2</td>\n",
       "      <td>NaN</td>\n",
       "      <td>2</td>\n",
       "      <td>1</td>\n",
       "      <td>1</td>\n",
       "      <td>2</td>\n",
       "    </tr>\n",
       "    <tr>\n",
       "      <th>292</th>\n",
       "      <td>563649</td>\n",
       "      <td>8</td>\n",
       "      <td>8</td>\n",
       "      <td>8</td>\n",
       "      <td>1</td>\n",
       "      <td>2</td>\n",
       "      <td>NaN</td>\n",
       "      <td>6</td>\n",
       "      <td>10</td>\n",
       "      <td>1</td>\n",
       "      <td>4</td>\n",
       "    </tr>\n",
       "    <tr>\n",
       "      <th>294</th>\n",
       "      <td>606140</td>\n",
       "      <td>1</td>\n",
       "      <td>1</td>\n",
       "      <td>1</td>\n",
       "      <td>1</td>\n",
       "      <td>2</td>\n",
       "      <td>NaN</td>\n",
       "      <td>2</td>\n",
       "      <td>1</td>\n",
       "      <td>1</td>\n",
       "      <td>2</td>\n",
       "    </tr>\n",
       "    <tr>\n",
       "      <th>297</th>\n",
       "      <td>61634</td>\n",
       "      <td>5</td>\n",
       "      <td>4</td>\n",
       "      <td>3</td>\n",
       "      <td>1</td>\n",
       "      <td>2</td>\n",
       "      <td>NaN</td>\n",
       "      <td>2</td>\n",
       "      <td>3</td>\n",
       "      <td>1</td>\n",
       "      <td>2</td>\n",
       "    </tr>\n",
       "    <tr>\n",
       "      <th>315</th>\n",
       "      <td>704168</td>\n",
       "      <td>4</td>\n",
       "      <td>6</td>\n",
       "      <td>5</td>\n",
       "      <td>6</td>\n",
       "      <td>7</td>\n",
       "      <td>NaN</td>\n",
       "      <td>4</td>\n",
       "      <td>9</td>\n",
       "      <td>1</td>\n",
       "      <td>2</td>\n",
       "    </tr>\n",
       "    <tr>\n",
       "      <th>321</th>\n",
       "      <td>733639</td>\n",
       "      <td>3</td>\n",
       "      <td>1</td>\n",
       "      <td>1</td>\n",
       "      <td>1</td>\n",
       "      <td>2</td>\n",
       "      <td>NaN</td>\n",
       "      <td>3</td>\n",
       "      <td>1</td>\n",
       "      <td>1</td>\n",
       "      <td>2</td>\n",
       "    </tr>\n",
       "    <tr>\n",
       "      <th>411</th>\n",
       "      <td>1238464</td>\n",
       "      <td>1</td>\n",
       "      <td>1</td>\n",
       "      <td>1</td>\n",
       "      <td>1</td>\n",
       "      <td>1</td>\n",
       "      <td>NaN</td>\n",
       "      <td>2</td>\n",
       "      <td>1</td>\n",
       "      <td>1</td>\n",
       "      <td>2</td>\n",
       "    </tr>\n",
       "    <tr>\n",
       "      <th>617</th>\n",
       "      <td>1057067</td>\n",
       "      <td>1</td>\n",
       "      <td>1</td>\n",
       "      <td>1</td>\n",
       "      <td>1</td>\n",
       "      <td>1</td>\n",
       "      <td>NaN</td>\n",
       "      <td>1</td>\n",
       "      <td>1</td>\n",
       "      <td>1</td>\n",
       "      <td>2</td>\n",
       "    </tr>\n",
       "  </tbody>\n",
       "</table>\n",
       "</div>"
      ],
      "text/plain": [
       "          ID  clump_thickness  uniformity_cell_size  uniformity_cell_shape  \\\n",
       "23   1057013                8                     4                      5   \n",
       "40   1096800                6                     6                      6   \n",
       "139  1183246                1                     1                      1   \n",
       "145  1184840                1                     1                      3   \n",
       "158  1193683                1                     1                      2   \n",
       "164  1197510                5                     1                      1   \n",
       "235  1241232                3                     1                      4   \n",
       "249   169356                3                     1                      1   \n",
       "275   432809                3                     1                      3   \n",
       "292   563649                8                     8                      8   \n",
       "294   606140                1                     1                      1   \n",
       "297    61634                5                     4                      3   \n",
       "315   704168                4                     6                      5   \n",
       "321   733639                3                     1                      1   \n",
       "411  1238464                1                     1                      1   \n",
       "617  1057067                1                     1                      1   \n",
       "\n",
       "     marginal_adhesion  single_epi_cell_size  bare_nuclei  bland_chromatin  \\\n",
       "23                   1                     2          NaN                7   \n",
       "40                   9                     6          NaN                7   \n",
       "139                  1                     1          NaN                2   \n",
       "145                  1                     2          NaN                2   \n",
       "158                  1                     3          NaN                1   \n",
       "164                  1                     2          NaN                3   \n",
       "235                  1                     2          NaN                3   \n",
       "249                  1                     2          NaN                3   \n",
       "275                  1                     2          NaN                2   \n",
       "292                  1                     2          NaN                6   \n",
       "294                  1                     2          NaN                2   \n",
       "297                  1                     2          NaN                2   \n",
       "315                  6                     7          NaN                4   \n",
       "321                  1                     2          NaN                3   \n",
       "411                  1                     1          NaN                2   \n",
       "617                  1                     1          NaN                1   \n",
       "\n",
       "     normal_nucleoli  mitoses  class  \n",
       "23                 3        1      4  \n",
       "40                 8        1      2  \n",
       "139                1        1      2  \n",
       "145                1        1      2  \n",
       "158                1        1      2  \n",
       "164                1        1      2  \n",
       "235                1        1      2  \n",
       "249                1        1      2  \n",
       "275                1        1      2  \n",
       "292               10        1      4  \n",
       "294                1        1      2  \n",
       "297                3        1      2  \n",
       "315                9        1      2  \n",
       "321                1        1      2  \n",
       "411                1        1      2  \n",
       "617                1        1      2  "
      ]
     },
     "execution_count": 22,
     "metadata": {},
     "output_type": "execute_result"
    }
   ],
   "source": [
    "df.iloc[[23,  40, 139, 145, 158, 164, 235, 249, 275, 292, 294, 297, 315,\n",
    "        321, 411, 617]]"
   ]
  },
  {
   "cell_type": "code",
   "execution_count": 23,
   "id": "09b184a1",
   "metadata": {
    "scrolled": true
   },
   "outputs": [
    {
     "data": {
      "text/plain": [
       "2    458\n",
       "4    241\n",
       "Name: class, dtype: int64"
      ]
     },
     "execution_count": 23,
     "metadata": {},
     "output_type": "execute_result"
    }
   ],
   "source": [
    "df['class'].value_counts()"
   ]
  },
  {
   "cell_type": "markdown",
   "id": "0f30ee4c",
   "metadata": {},
   "source": [
    "## Data Cleaning and Transformation"
   ]
  },
  {
   "cell_type": "code",
   "execution_count": 24,
   "id": "498fe711",
   "metadata": {},
   "outputs": [
    {
     "data": {
      "text/html": [
       "<div>\n",
       "<style scoped>\n",
       "    .dataframe tbody tr th:only-of-type {\n",
       "        vertical-align: middle;\n",
       "    }\n",
       "\n",
       "    .dataframe tbody tr th {\n",
       "        vertical-align: top;\n",
       "    }\n",
       "\n",
       "    .dataframe thead th {\n",
       "        text-align: right;\n",
       "    }\n",
       "</style>\n",
       "<table border=\"1\" class=\"dataframe\">\n",
       "  <thead>\n",
       "    <tr style=\"text-align: right;\">\n",
       "      <th></th>\n",
       "      <th>ID</th>\n",
       "      <th>clump_thickness</th>\n",
       "      <th>uniformity_cell_size</th>\n",
       "      <th>uniformity_cell_shape</th>\n",
       "      <th>marginal_adhesion</th>\n",
       "      <th>single_epi_cell_size</th>\n",
       "      <th>bare_nuclei</th>\n",
       "      <th>bland_chromatin</th>\n",
       "      <th>normal_nucleoli</th>\n",
       "      <th>mitoses</th>\n",
       "      <th>class</th>\n",
       "    </tr>\n",
       "  </thead>\n",
       "  <tbody>\n",
       "    <tr>\n",
       "      <th>0</th>\n",
       "      <td>1000025</td>\n",
       "      <td>5</td>\n",
       "      <td>1</td>\n",
       "      <td>1</td>\n",
       "      <td>1</td>\n",
       "      <td>2</td>\n",
       "      <td>1.0</td>\n",
       "      <td>3</td>\n",
       "      <td>1</td>\n",
       "      <td>1</td>\n",
       "      <td>2</td>\n",
       "    </tr>\n",
       "    <tr>\n",
       "      <th>1</th>\n",
       "      <td>1002945</td>\n",
       "      <td>5</td>\n",
       "      <td>4</td>\n",
       "      <td>4</td>\n",
       "      <td>5</td>\n",
       "      <td>7</td>\n",
       "      <td>10.0</td>\n",
       "      <td>3</td>\n",
       "      <td>2</td>\n",
       "      <td>1</td>\n",
       "      <td>2</td>\n",
       "    </tr>\n",
       "    <tr>\n",
       "      <th>2</th>\n",
       "      <td>1015425</td>\n",
       "      <td>3</td>\n",
       "      <td>1</td>\n",
       "      <td>1</td>\n",
       "      <td>1</td>\n",
       "      <td>2</td>\n",
       "      <td>2.0</td>\n",
       "      <td>3</td>\n",
       "      <td>1</td>\n",
       "      <td>1</td>\n",
       "      <td>2</td>\n",
       "    </tr>\n",
       "    <tr>\n",
       "      <th>3</th>\n",
       "      <td>1016277</td>\n",
       "      <td>6</td>\n",
       "      <td>8</td>\n",
       "      <td>8</td>\n",
       "      <td>1</td>\n",
       "      <td>3</td>\n",
       "      <td>4.0</td>\n",
       "      <td>3</td>\n",
       "      <td>7</td>\n",
       "      <td>1</td>\n",
       "      <td>2</td>\n",
       "    </tr>\n",
       "    <tr>\n",
       "      <th>4</th>\n",
       "      <td>1017023</td>\n",
       "      <td>4</td>\n",
       "      <td>1</td>\n",
       "      <td>1</td>\n",
       "      <td>3</td>\n",
       "      <td>2</td>\n",
       "      <td>1.0</td>\n",
       "      <td>3</td>\n",
       "      <td>1</td>\n",
       "      <td>1</td>\n",
       "      <td>2</td>\n",
       "    </tr>\n",
       "    <tr>\n",
       "      <th>...</th>\n",
       "      <td>...</td>\n",
       "      <td>...</td>\n",
       "      <td>...</td>\n",
       "      <td>...</td>\n",
       "      <td>...</td>\n",
       "      <td>...</td>\n",
       "      <td>...</td>\n",
       "      <td>...</td>\n",
       "      <td>...</td>\n",
       "      <td>...</td>\n",
       "      <td>...</td>\n",
       "    </tr>\n",
       "    <tr>\n",
       "      <th>694</th>\n",
       "      <td>776715</td>\n",
       "      <td>3</td>\n",
       "      <td>1</td>\n",
       "      <td>1</td>\n",
       "      <td>1</td>\n",
       "      <td>3</td>\n",
       "      <td>2.0</td>\n",
       "      <td>1</td>\n",
       "      <td>1</td>\n",
       "      <td>1</td>\n",
       "      <td>2</td>\n",
       "    </tr>\n",
       "    <tr>\n",
       "      <th>695</th>\n",
       "      <td>841769</td>\n",
       "      <td>2</td>\n",
       "      <td>1</td>\n",
       "      <td>1</td>\n",
       "      <td>1</td>\n",
       "      <td>2</td>\n",
       "      <td>1.0</td>\n",
       "      <td>1</td>\n",
       "      <td>1</td>\n",
       "      <td>1</td>\n",
       "      <td>2</td>\n",
       "    </tr>\n",
       "    <tr>\n",
       "      <th>696</th>\n",
       "      <td>888820</td>\n",
       "      <td>5</td>\n",
       "      <td>10</td>\n",
       "      <td>10</td>\n",
       "      <td>3</td>\n",
       "      <td>7</td>\n",
       "      <td>3.0</td>\n",
       "      <td>8</td>\n",
       "      <td>10</td>\n",
       "      <td>2</td>\n",
       "      <td>4</td>\n",
       "    </tr>\n",
       "    <tr>\n",
       "      <th>697</th>\n",
       "      <td>897471</td>\n",
       "      <td>4</td>\n",
       "      <td>8</td>\n",
       "      <td>6</td>\n",
       "      <td>4</td>\n",
       "      <td>3</td>\n",
       "      <td>4.0</td>\n",
       "      <td>10</td>\n",
       "      <td>6</td>\n",
       "      <td>1</td>\n",
       "      <td>4</td>\n",
       "    </tr>\n",
       "    <tr>\n",
       "      <th>698</th>\n",
       "      <td>897471</td>\n",
       "      <td>4</td>\n",
       "      <td>8</td>\n",
       "      <td>8</td>\n",
       "      <td>5</td>\n",
       "      <td>4</td>\n",
       "      <td>5.0</td>\n",
       "      <td>10</td>\n",
       "      <td>4</td>\n",
       "      <td>1</td>\n",
       "      <td>4</td>\n",
       "    </tr>\n",
       "  </tbody>\n",
       "</table>\n",
       "<p>699 rows × 11 columns</p>\n",
       "</div>"
      ],
      "text/plain": [
       "          ID  clump_thickness  uniformity_cell_size  uniformity_cell_shape  \\\n",
       "0    1000025                5                     1                      1   \n",
       "1    1002945                5                     4                      4   \n",
       "2    1015425                3                     1                      1   \n",
       "3    1016277                6                     8                      8   \n",
       "4    1017023                4                     1                      1   \n",
       "..       ...              ...                   ...                    ...   \n",
       "694   776715                3                     1                      1   \n",
       "695   841769                2                     1                      1   \n",
       "696   888820                5                    10                     10   \n",
       "697   897471                4                     8                      6   \n",
       "698   897471                4                     8                      8   \n",
       "\n",
       "     marginal_adhesion  single_epi_cell_size  bare_nuclei  bland_chromatin  \\\n",
       "0                    1                     2          1.0                3   \n",
       "1                    5                     7         10.0                3   \n",
       "2                    1                     2          2.0                3   \n",
       "3                    1                     3          4.0                3   \n",
       "4                    3                     2          1.0                3   \n",
       "..                 ...                   ...          ...              ...   \n",
       "694                  1                     3          2.0                1   \n",
       "695                  1                     2          1.0                1   \n",
       "696                  3                     7          3.0                8   \n",
       "697                  4                     3          4.0               10   \n",
       "698                  5                     4          5.0               10   \n",
       "\n",
       "     normal_nucleoli  mitoses  class  \n",
       "0                  1        1      2  \n",
       "1                  2        1      2  \n",
       "2                  1        1      2  \n",
       "3                  7        1      2  \n",
       "4                  1        1      2  \n",
       "..               ...      ...    ...  \n",
       "694                1        1      2  \n",
       "695                1        1      2  \n",
       "696               10        2      4  \n",
       "697                6        1      4  \n",
       "698                4        1      4  \n",
       "\n",
       "[699 rows x 11 columns]"
      ]
     },
     "execution_count": 24,
     "metadata": {},
     "output_type": "execute_result"
    }
   ],
   "source": [
    "df"
   ]
  },
  {
   "cell_type": "code",
   "execution_count": 25,
   "id": "c706ffbd",
   "metadata": {},
   "outputs": [
    {
     "data": {
      "text/plain": [
       "ID                       645\n",
       "clump_thickness           10\n",
       "uniformity_cell_size      10\n",
       "uniformity_cell_shape     10\n",
       "marginal_adhesion         10\n",
       "single_epi_cell_size      10\n",
       "bare_nuclei               10\n",
       "bland_chromatin           10\n",
       "normal_nucleoli           10\n",
       "mitoses                    9\n",
       "class                      2\n",
       "dtype: int64"
      ]
     },
     "execution_count": 25,
     "metadata": {},
     "output_type": "execute_result"
    }
   ],
   "source": [
    "df.nunique()"
   ]
  },
  {
   "cell_type": "markdown",
   "id": "4dec5877",
   "metadata": {},
   "source": [
    "### Imputing missing values with KNN Imputer"
   ]
  },
  {
   "cell_type": "code",
   "execution_count": 44,
   "id": "9b677fe8",
   "metadata": {},
   "outputs": [],
   "source": [
    "# Using KNN algorithm to impute NaN values\n",
    "from sklearn.impute import KNNImputer\n",
    "\n",
    "imputer = KNNImputer()\n",
    "df_imputed = imputer.fit_transform(df)\n",
    "\n",
    "df_imputed = pd.DataFrame(df_imputed, columns=df.columns)\n",
    "\n",
    "# mean imputing\n",
    "# df['bare_nuclei'].fillna(df['bare_nuclei'].mode()[0], inplace=True)\n",
    "\n",
    "# Imputed variables\n",
    "X = df_imputed.drop('class', axis=1)\n",
    "y = df_imputed['class']"
   ]
  },
  {
   "cell_type": "markdown",
   "id": "da73cf50",
   "metadata": {},
   "source": [
    "### Check for missing values now:"
   ]
  },
  {
   "cell_type": "code",
   "execution_count": 45,
   "id": "c62d5a98",
   "metadata": {
    "scrolled": true
   },
   "outputs": [
    {
     "data": {
      "text/plain": [
       "ID                       0\n",
       "clump_thickness          0\n",
       "uniformity_cell_size     0\n",
       "uniformity_cell_shape    0\n",
       "marginal_adhesion        0\n",
       "single_epi_cell_size     0\n",
       "bare_nuclei              0\n",
       "bland_chromatin          0\n",
       "normal_nucleoli          0\n",
       "mitoses                  0\n",
       "dtype: int64"
      ]
     },
     "execution_count": 45,
     "metadata": {},
     "output_type": "execute_result"
    }
   ],
   "source": [
    "X.isnull().sum()"
   ]
  },
  {
   "cell_type": "code",
   "execution_count": 46,
   "id": "bde9fd3b",
   "metadata": {
    "scrolled": true
   },
   "outputs": [
    {
     "data": {
      "image/png": "[encoded data removed]",
      "text/plain": [
       "<Figure size 360x360 with 1 Axes>"
      ]
     },
     "metadata": {
      "needs_background": "light"
     },
     "output_type": "display_data"
    },
    {
     "data": {
      "image/png": "[encoded data removed]",
      "text/plain": [
       "<Figure size 360x360 with 1 Axes>"
      ]
     },
     "metadata": {
      "needs_background": "light"
     },
     "output_type": "display_data"
    },
    {
     "data": {
      "image/png": "[encoded data removed]",
      "text/plain": [
       "<Figure size 360x360 with 1 Axes>"
      ]
     },
     "metadata": {
      "needs_background": "light"
     },
     "output_type": "display_data"
    },
    {
     "data": {
      "image/png": "[encoded data removed]",
      "text/plain": [
       "<Figure size 360x360 with 1 Axes>"
      ]
     },
     "metadata": {
      "needs_background": "light"
     },
     "output_type": "display_data"
    },
    {
     "data": {
      "image/png": "[encoded data removed]",
      "text/plain": [
       "<Figure size 360x360 with 1 Axes>"
      ]
     },
     "metadata": {
      "needs_background": "light"
     },
     "output_type": "display_data"
    },
    {
     "data": {
      "image/png": "[encoded data removed]",
      "text/plain": [
       "<Figure size 360x360 with 1 Axes>"
      ]
     },
     "metadata": {
      "needs_background": "light"
     },
     "output_type": "display_data"
    },
    {
     "data": {
      "image/png": "[encoded data removed]",
      "text/plain": [
       "<Figure size 360x360 with 1 Axes>"
      ]
     },
     "metadata": {
      "needs_background": "light"
     },
     "output_type": "display_data"
    },
    {
     "data": {
      "image/png": "[encoded data removed]",
      "text/plain": [
       "<Figure size 360x360 with 1 Axes>"
      ]
     },
     "metadata": {
      "needs_background": "light"
     },
     "output_type": "display_data"
    },
    {
     "data": {
      "image/png": "[encoded data removed]",
      "text/plain": [
       "<Figure size 360x360 with 1 Axes>"
      ]
     },
     "metadata": {
      "needs_background": "light"
     },
     "output_type": "display_data"
    },
    {
     "data": {
      "image/png": "[encoded data removed]",
      "text/plain": [
       "<Figure size 360x360 with 1 Axes>"
      ]
     },
     "metadata": {
      "needs_background": "light"
     },
     "output_type": "display_data"
    }
   ],
   "source": [
    "features = X.columns\n",
    "\n",
    "for i in features:\n",
    "    sns.displot(X[i])\n"
   ]
  },
  {
   "cell_type": "markdown",
   "id": "ea1bd4c2",
   "metadata": {},
   "source": [
    "### Feature Selection"
   ]
  },
  {
   "cell_type": "code",
   "execution_count": 47,
   "id": "79510a8f",
   "metadata": {
    "scrolled": true
   },
   "outputs": [
    {
     "data": {
      "image/png": "[encoded data removed]",
      "text/plain": [
       "<Figure size 1080x1080 with 2 Axes>"
      ]
     },
     "metadata": {
      "needs_background": "light"
     },
     "output_type": "display_data"
    }
   ],
   "source": [
    "corr = df.corr()\n",
    "plt.figure(figsize=(15,15))\n",
    "heatmap = sns.heatmap(corr, vmin=-1, vmax=1, annot=True,)"
   ]
  },
  {
   "cell_type": "code",
   "execution_count": 48,
   "id": "e74f444d",
   "metadata": {
    "scrolled": true
   },
   "outputs": [
    {
     "data": {
      "text/plain": [
       "<AxesSubplot:>"
      ]
     },
     "execution_count": 48,
     "metadata": {},
     "output_type": "execute_result"
    },
    {
     "data": {
      "image/png": "[encoded data removed]",
      "text/plain": [
       "<Figure size 720x360 with 2 Axes>"
      ]
     },
     "metadata": {
      "needs_background": "light"
     },
     "output_type": "display_data"
    }
   ],
   "source": [
    "top_features = corr.index[corr['class']>0.75]\n",
    "plt.subplots(figsize=(10,5))\n",
    "top_corr = df[top_features].corr()\n",
    "sns.heatmap(top_corr, annot=True)"
   ]
  },
  {
   "cell_type": "code",
   "execution_count": 49,
   "id": "fd32c390",
   "metadata": {
    "scrolled": true
   },
   "outputs": [
    {
     "data": {
      "text/plain": [
       "class                    1.000000\n",
       "bare_nuclei              0.822696\n",
       "uniformity_cell_shape    0.818934\n",
       "uniformity_cell_size     0.817904\n",
       "bland_chromatin          0.756616\n",
       "Name: class, dtype: float64"
      ]
     },
     "execution_count": 49,
     "metadata": {},
     "output_type": "execute_result"
    }
   ],
   "source": [
    "top_corr.sort_values(['class'], ascending=False, inplace=True)\n",
    "top_corr['class']\n"
   ]
  },
  {
   "cell_type": "markdown",
   "id": "33eb44d7",
   "metadata": {},
   "source": [
    "<b> Keep variables with correlation geater than 0.6 only </b>"
   ]
  },
  {
   "cell_type": "code",
   "execution_count": 56,
   "id": "8ceb7e96",
   "metadata": {},
   "outputs": [],
   "source": [
    "# Drop variables with correlation smaller than 0.6\n",
    "X = X.drop(['ID', 'mitoses', 'normal_nucleoli', 'single_epi_cell_size', 'marginal_adhesion', 'clump_thickness'], axis=1)\n"
   ]
  },
  {
   "cell_type": "markdown",
   "id": "188cb856",
   "metadata": {},
   "source": [
    "<b> Replace target variable from 2 and 4 to 0 and 1 </b>"
   ]
  },
  {
   "cell_type": "code",
   "execution_count": 50,
   "id": "fa01769f",
   "metadata": {},
   "outputs": [
    {
     "name": "stdout",
     "output_type": "stream",
     "text": [
      "0      0.0\n",
      "1      0.0\n",
      "2      0.0\n",
      "3      0.0\n",
      "4      0.0\n",
      "      ... \n",
      "694    0.0\n",
      "695    0.0\n",
      "696    1.0\n",
      "697    1.0\n",
      "698    1.0\n",
      "Name: class, Length: 699, dtype: float64\n"
     ]
    }
   ],
   "source": [
    "\n",
    "# Replace the values in the target variable\n",
    "y = y.replace({2.0: 0, 4.0: 1})\n",
    "\n",
    "print(y)"
   ]
  },
  {
   "cell_type": "markdown",
   "id": "78702766",
   "metadata": {},
   "source": [
    "## Naive Bayes"
   ]
  },
  {
   "cell_type": "code",
   "execution_count": 58,
   "id": "3f686b93",
   "metadata": {},
   "outputs": [
    {
     "name": "stdout",
     "output_type": "stream",
     "text": [
      "Partitioning Data...\n",
      "Data Successfully Partitioned!\n",
      "Training Model...\n",
      "Model Trained Successfully!\n",
      "------------Training Prediction--------------\n",
      "          Predicted 0  Predicted 1\n",
      "Actual 0          325           15\n",
      "Actual 1            8          176\n",
      "Classfifcation Report:\n",
      "\n",
      "              precision    recall  f1-score   support\n",
      "\n",
      "         0.0       0.98      0.96      0.97       340\n",
      "         1.0       0.92      0.96      0.94       184\n",
      "\n",
      "    accuracy                           0.96       524\n",
      "   macro avg       0.95      0.96      0.95       524\n",
      "weighted avg       0.96      0.96      0.96       524\n",
      "\n",
      "\n",
      "\n",
      "\n",
      "Regression statistics\n",
      "\n",
      "               Mean Error (ME) : -0.0134\n",
      "Root Mean Squared Error (RMSE) : 0.2095\n",
      "     Mean Absolute Error (MAE) : 0.0439\n",
      "Regression Summary:\n",
      "\n",
      "None\n",
      "\n",
      "\n",
      "------------Test Prediction--------------\n",
      "          Predicted 0  Predicted 1\n",
      "Actual 0          113            5\n",
      "Actual 1            4           53\n",
      "Classfifcation Report:\n",
      "\n",
      "              precision    recall  f1-score   support\n",
      "\n",
      "         0.0       0.97      0.96      0.96       118\n",
      "         1.0       0.91      0.93      0.92        57\n",
      "\n",
      "    accuracy                           0.95       175\n",
      "   macro avg       0.94      0.94      0.94       175\n",
      "weighted avg       0.95      0.95      0.95       175\n",
      "\n",
      "\n",
      "\n",
      "\n",
      "Regression statistics\n",
      "\n",
      "               Mean Error (ME) : -0.0057\n",
      "Root Mean Squared Error (RMSE) : 0.2268\n",
      "     Mean Absolute Error (MAE) : 0.0514\n",
      "Regression Summary:\n",
      "\n",
      "None\n",
      "\n",
      "\n"
     ]
    },
    {
     "data": {
      "image/png": "[encoded data removed]",
      "text/plain": [
       "<Figure size 432x288 with 2 Axes>"
      ]
     },
     "metadata": {
      "needs_background": "light"
     },
     "output_type": "display_data"
    },
    {
     "data": {
      "image/png": "[encoded data removed]",
      "text/plain": [
       "<Figure size 432x288 with 2 Axes>"
      ]
     },
     "metadata": {
      "needs_background": "light"
     },
     "output_type": "display_data"
    }
   ],
   "source": [
    "print(\"Partitioning Data...\")\n",
    "from sklearn.model_selection import train_test_split\n",
    "np.random.seed(42)\n",
    "X_train, X_test, y_train, y_test = train_test_split(X, y,test_size=0.25)\n",
    "print(\"Data Successfully Partitioned!\")\n",
    "    \n",
    "print(\"Training Model...\")\n",
    "from sklearn.naive_bayes import GaussianNB\n",
    "model = GaussianNB()\n",
    "model.fit(X_train, y_train)\n",
    "print(\"Model Trained Successfully!\")\n",
    "\n",
    "from sklearn.metrics import classification_report, confusion_matrix, accuracy_score\n",
    "print(\"------------Training Prediction--------------\")\n",
    "y_preds = model.predict(X_train)\n",
    "    \n",
    "cf_matrix = confusion_matrix(y_train, y_preds)\n",
    "cm_df = pd.DataFrame(cf_matrix, index=['Actual 0', 'Actual 1'], columns=['Predicted 0', 'Predicted 1'])\n",
    "print(cm_df)\n",
    "    \n",
    "fig, ax = plt.subplots(figsize=(6,4))\n",
    "sns.heatmap(cf_matrix, annot=True, cmap='Blues', fmt='g')\n",
    "fig.suptitle(t=\"Confusion Matrix - Training\",\n",
    "                color=\"red\",\n",
    "                fontsize=16);\n",
    "ax.set(xlabel=\"Predicted Label\",\n",
    "        ylabel=\"Actual Label\");\n",
    "    \n",
    "print(f\"Classfifcation Report:\\n\\n{classification_report(y_train, y_preds)}\\n\\n\")\n",
    "    \n",
    "from dmba import regressionSummary\n",
    "print(f\"Regression Summary:\\n\\n{regressionSummary(y_train, y_preds)}\\n\\n\")\n",
    "\n",
    "print(\"------------Test Prediction--------------\")\n",
    "\n",
    "y_preds =model.predict(X_test)\n",
    "    \n",
    "cf_matrix = confusion_matrix(y_test, y_preds)\n",
    "cm_df = pd.DataFrame(cf_matrix, index=['Actual 0', 'Actual 1'], columns=['Predicted 0', 'Predicted 1'])\n",
    "print(cm_df)\n",
    "\n",
    "fig, ax = plt.subplots(figsize=(6,4))\n",
    "sns.heatmap(cf_matrix, annot=True, cmap='Blues', fmt='g')\n",
    "fig.suptitle(t=\"Confusion Matrix - Test\",\n",
    "                color=\"red\",\n",
    "                fontsize=16);\n",
    "ax.set(xlabel=\"Predicted Label\",\n",
    "        ylabel=\"Actual Label\");    \n",
    "    \n",
    "print(f\"Classfifcation Report:\\n\\n{classification_report(y_test, y_preds)}\\n\\n\")\n",
    "    \n",
    "print(f\"Regression Summary:\\n\\n{regressionSummary(y_test, y_preds)}\\n\\n\")"
   ]
  },
  {
   "cell_type": "code",
   "execution_count": 59,
   "id": "602dc4bb",
   "metadata": {
    "scrolled": true
   },
   "outputs": [
    {
     "name": "stdout",
     "output_type": "stream",
     "text": [
      "[0.]\n"
     ]
    },
    {
     "name": "stderr",
     "output_type": "stream",
     "text": [
      "C:\\Users\\sarac\\anaconda3\\lib\\site-packages\\sklearn\\base.py:450: UserWarning: X does not have valid feature names, but GaussianNB was fitted with feature names\n",
      "  warnings.warn(\n"
     ]
    }
   ],
   "source": [
    "pred = model.predict(np.array([[1,1,1,3]]))\n",
    "print(pred)"
   ]
  },
  {
   "cell_type": "code",
   "execution_count": 35,
   "id": "8419a949",
   "metadata": {},
   "outputs": [],
   "source": [
    "import pickle\n",
    "# Open a file and use dump() \n",
    "with open('file_cancer.pkl', 'wb') as file: \n",
    "      \n",
    "    # A new file will be created \n",
    "    pickle.dump(model, file)"
   ]
  }
 ],
 "metadata": {
  "kernelspec": {
   "display_name": "Python 3 (ipykernel)",
   "language": "python",
   "name": "python3"
  },
  "language_info": {
   "codemirror_mode": {
    "name": "ipython",
    "version": 3
   },
   "file_extension": ".py",
   "mimetype": "text/x-python",
   "name": "python",
   "nbconvert_exporter": "python",
   "pygments_lexer": "ipython3",
   "version": "3.9.12"
  }
 },
 "nbformat": 4,
 "nbformat_minor": 5
}
